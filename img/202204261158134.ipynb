{
 "cells": [
  {
   "cell_type": "markdown",
   "metadata": {},
   "source": [
    "# 1. 数据预处理\n",
    "## 1) 将数据转为矩阵形式存储"
   ]
  },
  {
   "cell_type": "code",
   "execution_count": 46,
   "metadata": {},
   "outputs": [
    {
     "name": "stderr",
     "output_type": "stream",
     "text": [
      "C:\\Users\\86157\\AppData\\Local\\Temp/ipykernel_30420/2906986220.py:8: ParserWarning: Falling back to the 'python' engine because the 'c' engine does not support regex separators (separators > 1 char and different from '\\s+' are interpreted as regex); you can avoid this warning by specifying engine='python'.\n",
      "  users = pd.read_table(filename1, sep='::', header = None, names=uname)\n",
      "C:\\Users\\86157\\AppData\\Local\\Temp/ipykernel_30420/2906986220.py:11: ParserWarning: Falling back to the 'python' engine because the 'c' engine does not support regex separators (separators > 1 char and different from '\\s+' are interpreted as regex); you can avoid this warning by specifying engine='python'.\n",
      "  ratings = pd.read_table(filename2, header =None, sep='::',names=rnames)\n",
      "C:\\Users\\86157\\AppData\\Local\\Temp/ipykernel_30420/2906986220.py:14: ParserWarning: Falling back to the 'python' engine because the 'c' engine does not support regex separators (separators > 1 char and different from '\\s+' are interpreted as regex); you can avoid this warning by specifying engine='python'.\n",
      "  movies = pd.read_table(filename3, header = None, sep='::', names = mnames, encoding=\"ISO-8859-1\")\n"
     ]
    }
   ],
   "source": [
    "import pandas as pd\n",
    "#读取原始数据\n",
    "filename1 =r'ml-1m/users.dat'\n",
    "filename2 = r'ml-1m/ratings.dat'\n",
    "filename3 = r'ml-1m/movies.dat'\n",
    "pd.options.display.max_rows = 10\n",
    "uname = ['user_id','gender','age','occupation','zip']\n",
    "users = pd.read_table(filename1, sep='::', header = None, names=uname)\n",
    "\n",
    "rnames = ['user_id','movie_id','rating','timestamp']\n",
    "ratings = pd.read_table(filename2, header =None, sep='::',names=rnames)\n",
    "\n",
    "mnames = ['movie_id','title','genres']  # genres 表示影片的体裁是什么\n",
    "movies = pd.read_table(filename3, header = None, sep='::', names = mnames, encoding=\"ISO-8859-1\")"
   ]
  },
  {
   "cell_type": "code",
   "execution_count": 48,
   "metadata": {},
   "outputs": [],
   "source": [
    "import numpy as np\n",
    "rows=ratings[\"user_id\"].max()\n",
    "cols=ratings[\"movie_id\"].max()\n",
    "data=np.zeros((rows,cols))\n",
    "for idx,raw_data in ratings.iterrows():\n",
    "    r = raw_data['user_id']\n",
    "    c = raw_data['movie_id']\n",
    "    v = raw_data['rating']\n",
    "    data[r-1][c-1]=v\n",
    "np.save(\"data\",data)"
   ]
  },
  {
   "cell_type": "markdown",
   "metadata": {},
   "source": [
    "## 2) 训练集-验证集-测试集划分"
   ]
  },
  {
   "cell_type": "code",
   "execution_count": 88,
   "metadata": {},
   "outputs": [],
   "source": [
    "import random\n",
    "import numpy as np\n",
    "from sklearn.decomposition import PCA\n",
    "from sklearn.model_selection import train_test_split\n",
    "real_data=np.load(\"data.npy\")\n",
    "#将数据集划分为训练集、验证集、测试集\n",
    "train_rate=0.8\n",
    "val_rate=0.1\n",
    "test_rate=0.1\n",
    "rows,cols = real_data.shape\n",
    "train_pos=np.zeros((rows,cols),dtype=bool)\n",
    "val_pos=np.zeros((rows,cols),dtype=bool)\n",
    "test_pos=np.zeros((rows,cols),dtype=bool)\n",
    "\n",
    "\n",
    "for i in range(rows):\n",
    "    # print(real_data[i]!=0)\n",
    "    idx=np.where(real_data[i]!=0)[0]\n",
    "    np.random.shuffle(idx)\n",
    "    col_range=len(idx)\n",
    "    \n",
    "    # random.shuffle(col_range)\n",
    "    val_bound=int(col_range*val_rate)\n",
    "    test_bound=int(col_range*(val_rate+test_rate))\n",
    "    \n",
    "    val_idx = idx[:val_bound]\n",
    "    test_idx = idx[val_bound:test_bound]\n",
    "    train_idx  = idx[test_bound:]\n",
    "\n",
    "    val_pos[i,val_idx]=1\n",
    "    test_pos[i,test_idx]=1\n",
    "    train_pos[i,train_idx]=1"
   ]
  },
  {
   "cell_type": "code",
   "execution_count": 89,
   "metadata": {},
   "outputs": [],
   "source": [
    "train_data=np.zeros((rows,cols))\n",
    "train_data[train_pos] = real_data[train_pos]\n",
    "val_data=np.zeros((rows,cols))\n",
    "val_data[val_pos]=real_data[val_pos]\n",
    "test_data=np.zeros((rows,cols))\n",
    "test_data[test_pos]=real_data[test_pos]"
   ]
  },
  {
   "cell_type": "markdown",
   "metadata": {},
   "source": [
    "# 2. 训练"
   ]
  },
  {
   "cell_type": "code",
   "execution_count": 92,
   "metadata": {},
   "outputs": [
    {
     "name": "stderr",
     "output_type": "stream",
     "text": [
      "  1%|          | 1/100 [00:01<02:24,  1.46s/it]"
     ]
    },
    {
     "name": "stdout",
     "output_type": "stream",
     "text": [
      "step 0,train_loss:1.704,val_loss:1.703\n"
     ]
    },
    {
     "name": "stderr",
     "output_type": "stream",
     "text": [
      "  2%|▏         | 2/100 [00:02<02:22,  1.45s/it]"
     ]
    },
    {
     "name": "stdout",
     "output_type": "stream",
     "text": [
      "step 1,train_loss:1.487,val_loss:1.486\n"
     ]
    },
    {
     "name": "stderr",
     "output_type": "stream",
     "text": [
      "  3%|▎         | 3/100 [00:03<02:08,  1.33s/it]"
     ]
    },
    {
     "name": "stdout",
     "output_type": "stream",
     "text": [
      "step 2,train_loss:1.357,val_loss:1.356\n"
     ]
    },
    {
     "name": "stderr",
     "output_type": "stream",
     "text": [
      "  4%|▍         | 4/100 [00:05<02:03,  1.29s/it]"
     ]
    },
    {
     "name": "stdout",
     "output_type": "stream",
     "text": [
      "step 3,train_loss:1.274,val_loss:1.272\n"
     ]
    },
    {
     "name": "stderr",
     "output_type": "stream",
     "text": [
      "  5%|▌         | 5/100 [00:06<01:53,  1.19s/it]"
     ]
    },
    {
     "name": "stdout",
     "output_type": "stream",
     "text": [
      "step 4,train_loss:1.216,val_loss:1.215\n"
     ]
    },
    {
     "name": "stderr",
     "output_type": "stream",
     "text": [
      "  6%|▌         | 6/100 [00:07<01:45,  1.12s/it]"
     ]
    },
    {
     "name": "stdout",
     "output_type": "stream",
     "text": [
      "step 5,train_loss:1.174,val_loss:1.173\n"
     ]
    },
    {
     "name": "stderr",
     "output_type": "stream",
     "text": [
      "  7%|▋         | 7/100 [00:08<01:45,  1.14s/it]"
     ]
    },
    {
     "name": "stdout",
     "output_type": "stream",
     "text": [
      "step 6,train_loss:1.143,val_loss:1.142\n"
     ]
    },
    {
     "name": "stderr",
     "output_type": "stream",
     "text": [
      "  8%|▊         | 8/100 [00:09<01:56,  1.27s/it]"
     ]
    },
    {
     "name": "stdout",
     "output_type": "stream",
     "text": [
      "step 7,train_loss:1.117,val_loss:1.117\n"
     ]
    },
    {
     "name": "stderr",
     "output_type": "stream",
     "text": [
      "  9%|▉         | 9/100 [00:11<02:01,  1.33s/it]"
     ]
    },
    {
     "name": "stdout",
     "output_type": "stream",
     "text": [
      "step 8,train_loss:1.097,val_loss:1.097\n"
     ]
    },
    {
     "name": "stderr",
     "output_type": "stream",
     "text": [
      " 10%|█         | 10/100 [00:12<01:54,  1.27s/it]"
     ]
    },
    {
     "name": "stdout",
     "output_type": "stream",
     "text": [
      "step 9,train_loss:1.080,val_loss:1.081\n"
     ]
    },
    {
     "name": "stderr",
     "output_type": "stream",
     "text": [
      " 11%|█         | 11/100 [00:13<01:46,  1.20s/it]"
     ]
    },
    {
     "name": "stdout",
     "output_type": "stream",
     "text": [
      "step 10,train_loss:1.065,val_loss:1.067\n"
     ]
    },
    {
     "name": "stderr",
     "output_type": "stream",
     "text": [
      " 12%|█▏        | 12/100 [00:14<01:43,  1.18s/it]"
     ]
    },
    {
     "name": "stdout",
     "output_type": "stream",
     "text": [
      "step 11,train_loss:1.053,val_loss:1.055\n"
     ]
    },
    {
     "name": "stderr",
     "output_type": "stream",
     "text": [
      " 13%|█▎        | 13/100 [00:15<01:45,  1.21s/it]"
     ]
    },
    {
     "name": "stdout",
     "output_type": "stream",
     "text": [
      "step 12,train_loss:1.042,val_loss:1.044\n"
     ]
    },
    {
     "name": "stderr",
     "output_type": "stream",
     "text": [
      " 14%|█▍        | 14/100 [00:17<01:48,  1.26s/it]"
     ]
    },
    {
     "name": "stdout",
     "output_type": "stream",
     "text": [
      "step 13,train_loss:1.033,val_loss:1.035\n"
     ]
    },
    {
     "name": "stderr",
     "output_type": "stream",
     "text": [
      " 15%|█▌        | 15/100 [00:18<01:44,  1.23s/it]"
     ]
    },
    {
     "name": "stdout",
     "output_type": "stream",
     "text": [
      "step 14,train_loss:1.025,val_loss:1.027\n"
     ]
    },
    {
     "name": "stderr",
     "output_type": "stream",
     "text": [
      " 16%|█▌        | 16/100 [00:19<01:46,  1.26s/it]"
     ]
    },
    {
     "name": "stdout",
     "output_type": "stream",
     "text": [
      "step 15,train_loss:1.017,val_loss:1.020\n"
     ]
    },
    {
     "name": "stderr",
     "output_type": "stream",
     "text": [
      " 17%|█▋        | 17/100 [00:20<01:38,  1.18s/it]"
     ]
    },
    {
     "name": "stdout",
     "output_type": "stream",
     "text": [
      "step 16,train_loss:1.011,val_loss:1.014\n"
     ]
    },
    {
     "name": "stderr",
     "output_type": "stream",
     "text": [
      " 18%|█▊        | 18/100 [00:22<01:40,  1.22s/it]"
     ]
    },
    {
     "name": "stdout",
     "output_type": "stream",
     "text": [
      "step 17,train_loss:1.005,val_loss:1.009\n"
     ]
    },
    {
     "name": "stderr",
     "output_type": "stream",
     "text": [
      " 19%|█▉        | 19/100 [00:23<01:43,  1.28s/it]"
     ]
    },
    {
     "name": "stdout",
     "output_type": "stream",
     "text": [
      "step 18,train_loss:0.999,val_loss:1.004\n"
     ]
    },
    {
     "name": "stderr",
     "output_type": "stream",
     "text": [
      " 20%|██        | 20/100 [00:24<01:42,  1.28s/it]"
     ]
    },
    {
     "name": "stdout",
     "output_type": "stream",
     "text": [
      "step 19,train_loss:0.994,val_loss:0.999\n"
     ]
    },
    {
     "name": "stderr",
     "output_type": "stream",
     "text": [
      " 21%|██        | 21/100 [00:25<01:36,  1.22s/it]"
     ]
    },
    {
     "name": "stdout",
     "output_type": "stream",
     "text": [
      "step 20,train_loss:0.990,val_loss:0.995\n"
     ]
    },
    {
     "name": "stderr",
     "output_type": "stream",
     "text": [
      " 22%|██▏       | 22/100 [00:27<01:36,  1.23s/it]"
     ]
    },
    {
     "name": "stdout",
     "output_type": "stream",
     "text": [
      "step 21,train_loss:0.986,val_loss:0.991\n"
     ]
    },
    {
     "name": "stderr",
     "output_type": "stream",
     "text": [
      " 23%|██▎       | 23/100 [00:28<01:34,  1.23s/it]"
     ]
    },
    {
     "name": "stdout",
     "output_type": "stream",
     "text": [
      "step 22,train_loss:0.982,val_loss:0.988\n"
     ]
    },
    {
     "name": "stderr",
     "output_type": "stream",
     "text": [
      " 24%|██▍       | 24/100 [00:29<01:27,  1.16s/it]"
     ]
    },
    {
     "name": "stdout",
     "output_type": "stream",
     "text": [
      "step 23,train_loss:0.979,val_loss:0.984\n"
     ]
    },
    {
     "name": "stderr",
     "output_type": "stream",
     "text": [
      " 25%|██▌       | 25/100 [00:30<01:20,  1.07s/it]"
     ]
    },
    {
     "name": "stdout",
     "output_type": "stream",
     "text": [
      "step 24,train_loss:0.975,val_loss:0.981\n"
     ]
    },
    {
     "name": "stderr",
     "output_type": "stream",
     "text": [
      " 26%|██▌       | 26/100 [00:31<01:17,  1.04s/it]"
     ]
    },
    {
     "name": "stdout",
     "output_type": "stream",
     "text": [
      "step 25,train_loss:0.972,val_loss:0.979\n"
     ]
    },
    {
     "name": "stderr",
     "output_type": "stream",
     "text": [
      " 27%|██▋       | 27/100 [00:32<01:23,  1.15s/it]"
     ]
    },
    {
     "name": "stdout",
     "output_type": "stream",
     "text": [
      "step 26,train_loss:0.970,val_loss:0.976\n"
     ]
    },
    {
     "name": "stderr",
     "output_type": "stream",
     "text": [
      " 28%|██▊       | 28/100 [00:33<01:27,  1.22s/it]"
     ]
    },
    {
     "name": "stdout",
     "output_type": "stream",
     "text": [
      "step 27,train_loss:0.967,val_loss:0.974\n"
     ]
    },
    {
     "name": "stderr",
     "output_type": "stream",
     "text": [
      " 29%|██▉       | 29/100 [00:34<01:22,  1.16s/it]"
     ]
    },
    {
     "name": "stdout",
     "output_type": "stream",
     "text": [
      "step 28,train_loss:0.965,val_loss:0.972\n"
     ]
    },
    {
     "name": "stderr",
     "output_type": "stream",
     "text": [
      " 30%|███       | 30/100 [00:36<01:22,  1.18s/it]"
     ]
    },
    {
     "name": "stdout",
     "output_type": "stream",
     "text": [
      "step 29,train_loss:0.962,val_loss:0.970\n"
     ]
    },
    {
     "name": "stderr",
     "output_type": "stream",
     "text": [
      " 31%|███       | 31/100 [00:37<01:17,  1.12s/it]"
     ]
    },
    {
     "name": "stdout",
     "output_type": "stream",
     "text": [
      "step 30,train_loss:0.960,val_loss:0.968\n"
     ]
    },
    {
     "name": "stderr",
     "output_type": "stream",
     "text": [
      " 32%|███▏      | 32/100 [00:38<01:18,  1.16s/it]"
     ]
    },
    {
     "name": "stdout",
     "output_type": "stream",
     "text": [
      "step 31,train_loss:0.958,val_loss:0.966\n"
     ]
    },
    {
     "name": "stderr",
     "output_type": "stream",
     "text": [
      " 33%|███▎      | 33/100 [00:39<01:14,  1.12s/it]"
     ]
    },
    {
     "name": "stdout",
     "output_type": "stream",
     "text": [
      "step 32,train_loss:0.956,val_loss:0.964\n"
     ]
    },
    {
     "name": "stderr",
     "output_type": "stream",
     "text": [
      " 34%|███▍      | 34/100 [00:40<01:16,  1.15s/it]"
     ]
    },
    {
     "name": "stdout",
     "output_type": "stream",
     "text": [
      "step 33,train_loss:0.954,val_loss:0.962\n"
     ]
    },
    {
     "name": "stderr",
     "output_type": "stream",
     "text": [
      " 35%|███▌      | 35/100 [00:41<01:16,  1.18s/it]"
     ]
    },
    {
     "name": "stdout",
     "output_type": "stream",
     "text": [
      "step 34,train_loss:0.953,val_loss:0.961\n"
     ]
    },
    {
     "name": "stderr",
     "output_type": "stream",
     "text": [
      " 36%|███▌      | 36/100 [00:42<01:14,  1.16s/it]"
     ]
    },
    {
     "name": "stdout",
     "output_type": "stream",
     "text": [
      "step 35,train_loss:0.951,val_loss:0.960\n"
     ]
    },
    {
     "name": "stderr",
     "output_type": "stream",
     "text": [
      " 37%|███▋      | 37/100 [00:44<01:14,  1.19s/it]"
     ]
    },
    {
     "name": "stdout",
     "output_type": "stream",
     "text": [
      "step 36,train_loss:0.949,val_loss:0.958\n"
     ]
    },
    {
     "name": "stderr",
     "output_type": "stream",
     "text": [
      " 38%|███▊      | 38/100 [00:45<01:11,  1.15s/it]"
     ]
    },
    {
     "name": "stdout",
     "output_type": "stream",
     "text": [
      "step 37,train_loss:0.948,val_loss:0.957\n"
     ]
    },
    {
     "name": "stderr",
     "output_type": "stream",
     "text": [
      " 39%|███▉      | 39/100 [00:46<01:10,  1.15s/it]"
     ]
    },
    {
     "name": "stdout",
     "output_type": "stream",
     "text": [
      "step 38,train_loss:0.947,val_loss:0.956\n"
     ]
    },
    {
     "name": "stderr",
     "output_type": "stream",
     "text": [
      " 40%|████      | 40/100 [00:47<01:07,  1.13s/it]"
     ]
    },
    {
     "name": "stdout",
     "output_type": "stream",
     "text": [
      "step 39,train_loss:0.945,val_loss:0.955\n"
     ]
    },
    {
     "name": "stderr",
     "output_type": "stream",
     "text": [
      " 41%|████      | 41/100 [00:48<01:08,  1.17s/it]"
     ]
    },
    {
     "name": "stdout",
     "output_type": "stream",
     "text": [
      "step 40,train_loss:0.944,val_loss:0.954\n"
     ]
    },
    {
     "name": "stderr",
     "output_type": "stream",
     "text": [
      " 42%|████▏     | 42/100 [00:49<01:03,  1.09s/it]"
     ]
    },
    {
     "name": "stdout",
     "output_type": "stream",
     "text": [
      "step 41,train_loss:0.943,val_loss:0.952\n"
     ]
    },
    {
     "name": "stderr",
     "output_type": "stream",
     "text": [
      " 43%|████▎     | 43/100 [00:50<01:00,  1.06s/it]"
     ]
    },
    {
     "name": "stdout",
     "output_type": "stream",
     "text": [
      "step 42,train_loss:0.942,val_loss:0.951\n"
     ]
    },
    {
     "name": "stderr",
     "output_type": "stream",
     "text": [
      " 44%|████▍     | 44/100 [00:51<00:58,  1.04s/it]"
     ]
    },
    {
     "name": "stdout",
     "output_type": "stream",
     "text": [
      "step 43,train_loss:0.940,val_loss:0.951\n"
     ]
    },
    {
     "name": "stderr",
     "output_type": "stream",
     "text": [
      " 45%|████▌     | 45/100 [00:52<00:54,  1.01it/s]"
     ]
    },
    {
     "name": "stdout",
     "output_type": "stream",
     "text": [
      "step 44,train_loss:0.939,val_loss:0.950\n"
     ]
    },
    {
     "name": "stderr",
     "output_type": "stream",
     "text": [
      " 46%|████▌     | 46/100 [00:53<00:54,  1.01s/it]"
     ]
    },
    {
     "name": "stdout",
     "output_type": "stream",
     "text": [
      "step 45,train_loss:0.938,val_loss:0.949\n"
     ]
    },
    {
     "name": "stderr",
     "output_type": "stream",
     "text": [
      " 47%|████▋     | 47/100 [00:54<00:52,  1.01it/s]"
     ]
    },
    {
     "name": "stdout",
     "output_type": "stream",
     "text": [
      "step 46,train_loss:0.937,val_loss:0.948\n"
     ]
    },
    {
     "name": "stderr",
     "output_type": "stream",
     "text": [
      " 48%|████▊     | 48/100 [00:55<00:53,  1.02s/it]"
     ]
    },
    {
     "name": "stdout",
     "output_type": "stream",
     "text": [
      "step 47,train_loss:0.936,val_loss:0.947\n"
     ]
    },
    {
     "name": "stderr",
     "output_type": "stream",
     "text": [
      " 49%|████▉     | 49/100 [00:56<00:50,  1.00it/s]"
     ]
    },
    {
     "name": "stdout",
     "output_type": "stream",
     "text": [
      "step 48,train_loss:0.935,val_loss:0.946\n"
     ]
    },
    {
     "name": "stderr",
     "output_type": "stream",
     "text": [
      " 50%|█████     | 50/100 [00:57<00:50,  1.01s/it]"
     ]
    },
    {
     "name": "stdout",
     "output_type": "stream",
     "text": [
      "step 49,train_loss:0.935,val_loss:0.946\n"
     ]
    },
    {
     "name": "stderr",
     "output_type": "stream",
     "text": [
      " 51%|█████     | 51/100 [00:58<00:48,  1.01it/s]"
     ]
    },
    {
     "name": "stdout",
     "output_type": "stream",
     "text": [
      "step 50,train_loss:0.934,val_loss:0.945\n"
     ]
    },
    {
     "name": "stderr",
     "output_type": "stream",
     "text": [
      " 52%|█████▏    | 52/100 [00:59<00:47,  1.02it/s]"
     ]
    },
    {
     "name": "stdout",
     "output_type": "stream",
     "text": [
      "step 51,train_loss:0.933,val_loss:0.944\n"
     ]
    },
    {
     "name": "stderr",
     "output_type": "stream",
     "text": [
      " 53%|█████▎    | 53/100 [01:00<00:46,  1.00it/s]"
     ]
    },
    {
     "name": "stdout",
     "output_type": "stream",
     "text": [
      "step 52,train_loss:0.932,val_loss:0.944\n"
     ]
    },
    {
     "name": "stderr",
     "output_type": "stream",
     "text": [
      " 54%|█████▍    | 54/100 [01:01<00:43,  1.06it/s]"
     ]
    },
    {
     "name": "stdout",
     "output_type": "stream",
     "text": [
      "step 53,train_loss:0.931,val_loss:0.943\n"
     ]
    },
    {
     "name": "stderr",
     "output_type": "stream",
     "text": [
      " 55%|█████▌    | 55/100 [01:02<00:40,  1.11it/s]"
     ]
    },
    {
     "name": "stdout",
     "output_type": "stream",
     "text": [
      "step 54,train_loss:0.931,val_loss:0.943\n"
     ]
    },
    {
     "name": "stderr",
     "output_type": "stream",
     "text": [
      " 56%|█████▌    | 56/100 [01:03<00:39,  1.13it/s]"
     ]
    },
    {
     "name": "stdout",
     "output_type": "stream",
     "text": [
      "step 55,train_loss:0.930,val_loss:0.942\n"
     ]
    },
    {
     "name": "stderr",
     "output_type": "stream",
     "text": [
      " 57%|█████▋    | 57/100 [01:03<00:37,  1.14it/s]"
     ]
    },
    {
     "name": "stdout",
     "output_type": "stream",
     "text": [
      "step 56,train_loss:0.929,val_loss:0.941\n"
     ]
    },
    {
     "name": "stderr",
     "output_type": "stream",
     "text": [
      " 58%|█████▊    | 58/100 [01:04<00:38,  1.10it/s]"
     ]
    },
    {
     "name": "stdout",
     "output_type": "stream",
     "text": [
      "step 57,train_loss:0.929,val_loss:0.941\n"
     ]
    },
    {
     "name": "stderr",
     "output_type": "stream",
     "text": [
      " 59%|█████▉    | 59/100 [01:05<00:37,  1.09it/s]"
     ]
    },
    {
     "name": "stdout",
     "output_type": "stream",
     "text": [
      "step 58,train_loss:0.928,val_loss:0.940\n"
     ]
    },
    {
     "name": "stderr",
     "output_type": "stream",
     "text": [
      " 60%|██████    | 60/100 [01:06<00:35,  1.11it/s]"
     ]
    },
    {
     "name": "stdout",
     "output_type": "stream",
     "text": [
      "step 59,train_loss:0.927,val_loss:0.940\n"
     ]
    },
    {
     "name": "stderr",
     "output_type": "stream",
     "text": [
      " 61%|██████    | 61/100 [01:07<00:37,  1.03it/s]"
     ]
    },
    {
     "name": "stdout",
     "output_type": "stream",
     "text": [
      "step 60,train_loss:0.927,val_loss:0.939\n"
     ]
    },
    {
     "name": "stderr",
     "output_type": "stream",
     "text": [
      " 62%|██████▏   | 62/100 [01:08<00:36,  1.05it/s]"
     ]
    },
    {
     "name": "stdout",
     "output_type": "stream",
     "text": [
      "step 61,train_loss:0.926,val_loss:0.939\n"
     ]
    },
    {
     "name": "stderr",
     "output_type": "stream",
     "text": [
      " 63%|██████▎   | 63/100 [01:09<00:33,  1.12it/s]"
     ]
    },
    {
     "name": "stdout",
     "output_type": "stream",
     "text": [
      "step 62,train_loss:0.926,val_loss:0.938\n"
     ]
    },
    {
     "name": "stderr",
     "output_type": "stream",
     "text": [
      " 64%|██████▍   | 64/100 [01:10<00:30,  1.17it/s]"
     ]
    },
    {
     "name": "stdout",
     "output_type": "stream",
     "text": [
      "step 63,train_loss:0.925,val_loss:0.938\n"
     ]
    },
    {
     "name": "stderr",
     "output_type": "stream",
     "text": [
      " 65%|██████▌   | 65/100 [01:11<00:31,  1.13it/s]"
     ]
    },
    {
     "name": "stdout",
     "output_type": "stream",
     "text": [
      "step 64,train_loss:0.924,val_loss:0.938\n"
     ]
    },
    {
     "name": "stderr",
     "output_type": "stream",
     "text": [
      " 66%|██████▌   | 66/100 [01:12<00:31,  1.08it/s]"
     ]
    },
    {
     "name": "stdout",
     "output_type": "stream",
     "text": [
      "step 65,train_loss:0.924,val_loss:0.937\n"
     ]
    },
    {
     "name": "stderr",
     "output_type": "stream",
     "text": [
      " 67%|██████▋   | 67/100 [01:13<00:29,  1.10it/s]"
     ]
    },
    {
     "name": "stdout",
     "output_type": "stream",
     "text": [
      "step 66,train_loss:0.923,val_loss:0.937\n"
     ]
    },
    {
     "name": "stderr",
     "output_type": "stream",
     "text": [
      " 68%|██████▊   | 68/100 [01:14<00:28,  1.11it/s]"
     ]
    },
    {
     "name": "stdout",
     "output_type": "stream",
     "text": [
      "step 67,train_loss:0.923,val_loss:0.936\n"
     ]
    },
    {
     "name": "stderr",
     "output_type": "stream",
     "text": [
      " 69%|██████▉   | 69/100 [01:14<00:27,  1.11it/s]"
     ]
    },
    {
     "name": "stdout",
     "output_type": "stream",
     "text": [
      "step 68,train_loss:0.922,val_loss:0.936\n"
     ]
    },
    {
     "name": "stderr",
     "output_type": "stream",
     "text": [
      " 70%|███████   | 70/100 [01:15<00:26,  1.13it/s]"
     ]
    },
    {
     "name": "stdout",
     "output_type": "stream",
     "text": [
      "step 69,train_loss:0.922,val_loss:0.936\n"
     ]
    },
    {
     "name": "stderr",
     "output_type": "stream",
     "text": [
      " 71%|███████   | 71/100 [01:16<00:25,  1.14it/s]"
     ]
    },
    {
     "name": "stdout",
     "output_type": "stream",
     "text": [
      "step 70,train_loss:0.922,val_loss:0.935\n"
     ]
    },
    {
     "name": "stderr",
     "output_type": "stream",
     "text": [
      " 72%|███████▏  | 72/100 [01:17<00:24,  1.15it/s]"
     ]
    },
    {
     "name": "stdout",
     "output_type": "stream",
     "text": [
      "step 71,train_loss:0.921,val_loss:0.935\n"
     ]
    },
    {
     "name": "stderr",
     "output_type": "stream",
     "text": [
      " 73%|███████▎  | 73/100 [01:18<00:22,  1.18it/s]"
     ]
    },
    {
     "name": "stdout",
     "output_type": "stream",
     "text": [
      "step 72,train_loss:0.921,val_loss:0.935\n"
     ]
    },
    {
     "name": "stderr",
     "output_type": "stream",
     "text": [
      " 74%|███████▍  | 74/100 [01:19<00:22,  1.18it/s]"
     ]
    },
    {
     "name": "stdout",
     "output_type": "stream",
     "text": [
      "step 73,train_loss:0.920,val_loss:0.934\n"
     ]
    },
    {
     "name": "stderr",
     "output_type": "stream",
     "text": [
      " 75%|███████▌  | 75/100 [01:19<00:21,  1.17it/s]"
     ]
    },
    {
     "name": "stdout",
     "output_type": "stream",
     "text": [
      "step 74,train_loss:0.920,val_loss:0.934\n"
     ]
    },
    {
     "name": "stderr",
     "output_type": "stream",
     "text": [
      " 76%|███████▌  | 76/100 [01:20<00:20,  1.17it/s]"
     ]
    },
    {
     "name": "stdout",
     "output_type": "stream",
     "text": [
      "step 75,train_loss:0.919,val_loss:0.934\n"
     ]
    },
    {
     "name": "stderr",
     "output_type": "stream",
     "text": [
      " 77%|███████▋  | 77/100 [01:21<00:19,  1.16it/s]"
     ]
    },
    {
     "name": "stdout",
     "output_type": "stream",
     "text": [
      "step 76,train_loss:0.919,val_loss:0.934\n"
     ]
    },
    {
     "name": "stderr",
     "output_type": "stream",
     "text": [
      " 78%|███████▊  | 78/100 [01:22<00:18,  1.16it/s]"
     ]
    },
    {
     "name": "stdout",
     "output_type": "stream",
     "text": [
      "step 77,train_loss:0.919,val_loss:0.933\n"
     ]
    },
    {
     "name": "stderr",
     "output_type": "stream",
     "text": [
      " 79%|███████▉  | 79/100 [01:23<00:17,  1.19it/s]"
     ]
    },
    {
     "name": "stdout",
     "output_type": "stream",
     "text": [
      "step 78,train_loss:0.918,val_loss:0.933\n"
     ]
    },
    {
     "name": "stderr",
     "output_type": "stream",
     "text": [
      " 80%|████████  | 80/100 [01:24<00:16,  1.18it/s]"
     ]
    },
    {
     "name": "stdout",
     "output_type": "stream",
     "text": [
      "step 79,train_loss:0.918,val_loss:0.933\n"
     ]
    },
    {
     "name": "stderr",
     "output_type": "stream",
     "text": [
      " 81%|████████  | 81/100 [01:25<00:17,  1.09it/s]"
     ]
    },
    {
     "name": "stdout",
     "output_type": "stream",
     "text": [
      "step 80,train_loss:0.918,val_loss:0.932\n"
     ]
    },
    {
     "name": "stderr",
     "output_type": "stream",
     "text": [
      " 82%|████████▏ | 82/100 [01:26<00:16,  1.07it/s]"
     ]
    },
    {
     "name": "stdout",
     "output_type": "stream",
     "text": [
      "step 81,train_loss:0.917,val_loss:0.932\n"
     ]
    },
    {
     "name": "stderr",
     "output_type": "stream",
     "text": [
      " 83%|████████▎ | 83/100 [01:27<00:15,  1.07it/s]"
     ]
    },
    {
     "name": "stdout",
     "output_type": "stream",
     "text": [
      "step 82,train_loss:0.917,val_loss:0.932\n"
     ]
    },
    {
     "name": "stderr",
     "output_type": "stream",
     "text": [
      " 84%|████████▍ | 84/100 [01:28<00:14,  1.09it/s]"
     ]
    },
    {
     "name": "stdout",
     "output_type": "stream",
     "text": [
      "step 83,train_loss:0.916,val_loss:0.932\n"
     ]
    },
    {
     "name": "stderr",
     "output_type": "stream",
     "text": [
      " 85%|████████▌ | 85/100 [01:28<00:13,  1.12it/s]"
     ]
    },
    {
     "name": "stdout",
     "output_type": "stream",
     "text": [
      "step 84,train_loss:0.916,val_loss:0.931\n"
     ]
    },
    {
     "name": "stderr",
     "output_type": "stream",
     "text": [
      " 86%|████████▌ | 86/100 [01:29<00:12,  1.15it/s]"
     ]
    },
    {
     "name": "stdout",
     "output_type": "stream",
     "text": [
      "step 85,train_loss:0.916,val_loss:0.931\n"
     ]
    },
    {
     "name": "stderr",
     "output_type": "stream",
     "text": [
      " 87%|████████▋ | 87/100 [01:30<00:11,  1.18it/s]"
     ]
    },
    {
     "name": "stdout",
     "output_type": "stream",
     "text": [
      "step 86,train_loss:0.916,val_loss:0.931\n"
     ]
    },
    {
     "name": "stderr",
     "output_type": "stream",
     "text": [
      " 88%|████████▊ | 88/100 [01:31<00:09,  1.20it/s]"
     ]
    },
    {
     "name": "stdout",
     "output_type": "stream",
     "text": [
      "step 87,train_loss:0.915,val_loss:0.931\n"
     ]
    },
    {
     "name": "stderr",
     "output_type": "stream",
     "text": [
      " 89%|████████▉ | 89/100 [01:32<00:09,  1.19it/s]"
     ]
    },
    {
     "name": "stdout",
     "output_type": "stream",
     "text": [
      "step 88,train_loss:0.915,val_loss:0.931\n"
     ]
    },
    {
     "name": "stderr",
     "output_type": "stream",
     "text": [
      " 90%|█████████ | 90/100 [01:33<00:08,  1.14it/s]"
     ]
    },
    {
     "name": "stdout",
     "output_type": "stream",
     "text": [
      "step 89,train_loss:0.915,val_loss:0.930\n"
     ]
    },
    {
     "name": "stderr",
     "output_type": "stream",
     "text": [
      " 91%|█████████ | 91/100 [01:34<00:08,  1.08it/s]"
     ]
    },
    {
     "name": "stdout",
     "output_type": "stream",
     "text": [
      "step 90,train_loss:0.914,val_loss:0.930\n"
     ]
    },
    {
     "name": "stderr",
     "output_type": "stream",
     "text": [
      " 92%|█████████▏| 92/100 [01:35<00:08,  1.01s/it]"
     ]
    },
    {
     "name": "stdout",
     "output_type": "stream",
     "text": [
      "step 91,train_loss:0.914,val_loss:0.930\n"
     ]
    },
    {
     "name": "stderr",
     "output_type": "stream",
     "text": [
      " 93%|█████████▎| 93/100 [01:36<00:06,  1.01it/s]"
     ]
    },
    {
     "name": "stdout",
     "output_type": "stream",
     "text": [
      "step 92,train_loss:0.914,val_loss:0.930\n"
     ]
    },
    {
     "name": "stderr",
     "output_type": "stream",
     "text": [
      " 94%|█████████▍| 94/100 [01:37<00:05,  1.02it/s]"
     ]
    },
    {
     "name": "stdout",
     "output_type": "stream",
     "text": [
      "step 93,train_loss:0.913,val_loss:0.930\n"
     ]
    },
    {
     "name": "stderr",
     "output_type": "stream",
     "text": [
      " 95%|█████████▌| 95/100 [01:38<00:05,  1.00s/it]"
     ]
    },
    {
     "name": "stdout",
     "output_type": "stream",
     "text": [
      "step 94,train_loss:0.913,val_loss:0.929\n"
     ]
    },
    {
     "name": "stderr",
     "output_type": "stream",
     "text": [
      " 96%|█████████▌| 96/100 [01:39<00:04,  1.10s/it]"
     ]
    },
    {
     "name": "stdout",
     "output_type": "stream",
     "text": [
      "step 95,train_loss:0.913,val_loss:0.929\n"
     ]
    },
    {
     "name": "stderr",
     "output_type": "stream",
     "text": [
      " 97%|█████████▋| 97/100 [01:40<00:03,  1.05s/it]"
     ]
    },
    {
     "name": "stdout",
     "output_type": "stream",
     "text": [
      "step 96,train_loss:0.913,val_loss:0.929\n"
     ]
    },
    {
     "name": "stderr",
     "output_type": "stream",
     "text": [
      " 98%|█████████▊| 98/100 [01:41<00:02,  1.13s/it]"
     ]
    },
    {
     "name": "stdout",
     "output_type": "stream",
     "text": [
      "step 97,train_loss:0.912,val_loss:0.929\n"
     ]
    },
    {
     "name": "stderr",
     "output_type": "stream",
     "text": [
      " 99%|█████████▉| 99/100 [01:42<00:01,  1.07s/it]"
     ]
    },
    {
     "name": "stdout",
     "output_type": "stream",
     "text": [
      "step 98,train_loss:0.912,val_loss:0.929\n"
     ]
    },
    {
     "name": "stderr",
     "output_type": "stream",
     "text": [
      "100%|██████████| 100/100 [01:43<00:00,  1.04s/it]"
     ]
    },
    {
     "name": "stdout",
     "output_type": "stream",
     "text": [
      "step 99,train_loss:0.912,val_loss:0.929\n"
     ]
    },
    {
     "name": "stderr",
     "output_type": "stream",
     "text": [
      "\n"
     ]
    }
   ],
   "source": [
    "from tqdm import tqdm\n",
    "\n",
    "P_best,Q_best=None,None\n",
    "\n",
    "def get_rmse(error,sz):\n",
    "    \"\"\"计算rmse\n",
    "    \"\"\"\n",
    "    rmse = np.sqrt((error**2).sum()/sz)\n",
    "    return rmse\n",
    "\n",
    "def get_mae(error,sz):\n",
    "    \"\"\"计算mae\n",
    "    \"\"\"\n",
    "    mae=np.abs(error)/sz\n",
    "    return mae\n",
    "\n",
    "def istrain(train_data,val_data,iteration,eta,k,isprint=True):\n",
    "    global P_best,Q_best\n",
    "    train_loss=[]\n",
    "    val_loss=[]\n",
    "\n",
    "    missing_pos=train_data==0\n",
    "    val_pos=val_data==0\n",
    "    val_bestLoss=None\n",
    "\n",
    "    rows,cols=train_data.shape\n",
    "    #初始P矩阵和Q矩阵\n",
    "    P=np.random.rand(rows,k)\n",
    "    Q=np.random.rand(k,cols)\n",
    "    train_sz=rows*cols-missing_pos.sum()\n",
    "    val_sz=rows*cols-val_pos.sum()\n",
    "    for t in tqdm(range(iteration)):\n",
    "        #计算训练集误差\n",
    "        r_hat=P@Q\n",
    "        train_error=train_data-r_hat\n",
    "        train_error[missing_pos]=0\n",
    "        train_rmse=get_rmse(train_error,train_sz)\n",
    "\n",
    "\n",
    "        #计算验证集误差\n",
    "        val_error=val_data-r_hat\n",
    "        val_error[val_pos]=0\n",
    "        val_rmse=get_rmse(val_error,val_sz)\n",
    "        if val_bestLoss is None or val_rmse<val_bestLoss:\n",
    "            val_bestLoss=val_rmse\n",
    "            P_best=P\n",
    "            Q_best=Q\n",
    "\n",
    "        #梯度下降，矩阵形式\n",
    "        tP = P + eta*train_error@Q.T\n",
    "        Q = Q + eta*P.T@train_error\n",
    "        P = tP\n",
    "        if isprint:\n",
    "            print(\"step {},train_loss:{:.3f},val_loss:{:.3f}\".format(t,train_rmse,val_rmse))\n",
    "\n",
    "        train_loss.append(train_rmse)\n",
    "        val_loss.append(val_rmse)\n",
    "    return train_loss,val_loss\n",
    "train_loss,val_loss = istrain(train_data,val_data,100,1e-4,10)\n"
   ]
  },
  {
   "cell_type": "markdown",
   "metadata": {},
   "source": [
    "## 选取不同的参数组合"
   ]
  },
  {
   "cell_type": "code",
   "execution_count": 103,
   "metadata": {},
   "outputs": [
    {
     "name": "stderr",
     "output_type": "stream",
     "text": [
      "100%|██████████| 50/50 [00:45<00:00,  1.11it/s]\n",
      "100%|██████████| 50/50 [00:39<00:00,  1.26it/s]\n",
      "100%|██████████| 50/50 [00:43<00:00,  1.15it/s]\n"
     ]
    },
    {
     "data": {
      "image/png": "[encoded data removed]",
      "text/plain": [
       "<Figure size 720x360 with 1 Axes>"
      ]
     },
     "metadata": {
      "needs_background": "light"
     },
     "output_type": "display_data"
    }
   ],
   "source": [
    "from matplotlib import pyplot as plt\n",
    "def plot_loss(loss,k,eta,color,flag=False):\n",
    "    \"\"\"绘制损失函数下降曲线\n",
    "    \"\"\"\n",
    "    label=\"k={},eta={:.3e}\".format(k,eta)\n",
    "    if flag:\n",
    "        plt.plot(loss,dashes=[6, 2],color=color)\n",
    "    else:\n",
    "        plt.plot(loss,label=label,color=color)\n",
    "\n",
    "ks=[5,10,20]\n",
    "eta=1e-4\n",
    "iteration=50\n",
    "colors=[\"deepskyblue\",\"orange\",\"crimson\"]\n",
    "fig=plt.figure(figsize=(10,5))\n",
    "for i,k in enumerate(ks):\n",
    "    c=colors[i]\n",
    "    train_loss,val_loss=istrain(train_data,val_data,iteration,eta,k,False)\n",
    "    plot_loss(train_loss,k,eta,c)\n",
    "    plot_loss(val_loss,k,eta,c,True)\n",
    "plt.legend()\n",
    "plt.show()"
   ]
  },
  {
   "cell_type": "code",
   "execution_count": 104,
   "metadata": {},
   "outputs": [
    {
     "name": "stderr",
     "output_type": "stream",
     "text": [
      "100%|██████████| 50/50 [00:43<00:00,  1.16it/s]\n",
      "100%|██████████| 50/50 [00:42<00:00,  1.18it/s]\n",
      "100%|██████████| 50/50 [00:42<00:00,  1.18it/s]\n"
     ]
    },
    {
     "data": {
      "image/png": "[encoded data removed]",
      "text/plain": [
       "<Figure size 720x360 with 1 Axes>"
      ]
     },
     "metadata": {
      "needs_background": "light"
     },
     "output_type": "display_data"
    }
   ],
   "source": [
    "ks=10\n",
    "etas=[1e-4,2*1e-4,3*1e-4]\n",
    "iteration=50\n",
    "colors=[\"deepskyblue\",\"orange\",\"crimson\"]\n",
    "fig=plt.figure(figsize=(10,5))\n",
    "for i,eta in enumerate(etas):\n",
    "    c=colors[i]\n",
    "    train_loss,val_loss=istrain(train_data,val_data,iteration,eta,k,False)\n",
    "    plot_loss(train_loss,k,eta,c)\n",
    "    plot_loss(val_loss,k,eta,c,True)\n",
    "plt.legend()\n",
    "plt.show()"
   ]
  },
  {
   "cell_type": "code",
   "execution_count": 114,
   "metadata": {},
   "outputs": [
    {
     "name": "stderr",
     "output_type": "stream",
     "text": [
      "100%|██████████| 100/100 [01:35<00:00,  1.05it/s]\n"
     ]
    },
    {
     "name": "stdout",
     "output_type": "stream",
     "text": [
      "0.9250920265692901\n"
     ]
    }
   ],
   "source": [
    "istrain(train_data,val_data,100,2*1e-4,10,False)\n",
    "\n",
    "#计算测试集误差\n",
    "r_hat = P_best@Q_best\n",
    "test_pos = test_data==0\n",
    "test_error = test_data-r_hat\n",
    "test_error[test_pos]=0\n",
    "test_sz=rows*cols-test_pos.sum()\n",
    "test_rmse=get_rmse(test_error,test_sz)\n",
    "print(test_rmse)"
   ]
  },
  {
   "cell_type": "markdown",
   "metadata": {},
   "source": [
    "# 3. 计算precission@k并与其他推荐算法比较"
   ]
  },
  {
   "cell_type": "code",
   "execution_count": 115,
   "metadata": {},
   "outputs": [
    {
     "name": "stdout",
     "output_type": "stream",
     "text": [
      "0.4035736434706291\n"
     ]
    }
   ],
   "source": [
    "# 计算测试集Precission@k\n",
    "r_hat = P_best@Q_best\n",
    "test_pos = test_data==0\n",
    "\n",
    "test_data[test_pos]=0\n",
    "r_hat[test_pos]=0\n",
    "\n",
    "pre_data = np.ceil(r_hat)\n",
    "real_data = test_data\n",
    "#从大到小\n",
    "pre_idx = np.argsort(-pre_data)\n",
    "real_idx = np.argsort(-real_data)\n",
    "pk=[]\n",
    "for i in range(rows):\n",
    "    cnt=0\n",
    "    #只统计不为0的部分\n",
    "    cols_range=(real_data[i]!=0).sum()\n",
    "    for item_idx in range(cols_range):\n",
    "        item_idx=pre_idx[i][item_idx]\n",
    "        pre_rating = pre_data[i][item_idx]\n",
    "        real_rating = real_data[i][item_idx]\n",
    "        if pre_rating==real_rating:\n",
    "            cnt+=1\n",
    "    pk.append(cnt/cols_range)\n",
    "\n",
    "pk=np.array(pk)\n",
    "print(pk.mean())"
   ]
  },
  {
   "cell_type": "code",
   "execution_count": 94,
   "metadata": {},
   "outputs": [
    {
     "name": "stdout",
     "output_type": "stream",
     "text": [
      "Evaluating RMSE, MAE of algorithm SVD on 5 split(s).\n",
      "\n",
      "                  Fold 1  Fold 2  Fold 3  Fold 4  Fold 5  Mean    Std     \n",
      "RMSE (testset)    0.9355  0.9334  0.9402  0.9398  0.9316  0.9361  0.0034  \n",
      "MAE (testset)     0.7366  0.7373  0.7394  0.7407  0.7338  0.7376  0.0024  \n",
      "Fit time          6.16    7.58    7.80    7.47    7.95    7.39    0.64    \n",
      "Test time         0.37    0.40    0.44    0.39    0.37    0.40    0.03    \n",
      "{'test_rmse': array([0.93546929, 0.93337021, 0.94023685, 0.93982291, 0.93162052]), 'test_mae': array([0.73658683, 0.73731736, 0.73937111, 0.74068715, 0.73380995]), 'fit_time': (6.160890579223633, 7.584797143936157, 7.802205324172974, 7.469327688217163, 7.9492340087890625), 'test_time': (0.37104249000549316, 0.3979959487915039, 0.4430105686187744, 0.39099740982055664, 0.3740067481994629)}\n"
     ]
    }
   ],
   "source": [
    "##与其他推荐算法比较\n",
    "from surprise import SVD\n",
    "from surprise import Dataset\n",
    "from surprise.model_selection import cross_validate\n",
    "\n",
    "data = Dataset.load_builtin('ml-100k')\n",
    "\n",
    "# 先比较库中的SVD与自己实现的SVD效果\n",
    "algo = SVD()\n",
    "\n",
    "# 5折交叉验证\n",
    "print(cross_validate(algo, data, measures=['RMSE', 'MAE'], cv=5, verbose=True))"
   ]
  },
  {
   "cell_type": "code",
   "execution_count": 98,
   "metadata": {},
   "outputs": [
    {
     "name": "stdout",
     "output_type": "stream",
     "text": [
      "Estimating biases using als...\n",
      "Computing the msd similarity matrix...\n",
      "Done computing similarity matrix.\n",
      "Estimating biases using als...\n",
      "Computing the msd similarity matrix...\n",
      "Done computing similarity matrix.\n",
      "Estimating biases using als...\n",
      "Computing the msd similarity matrix...\n",
      "Done computing similarity matrix.\n",
      "Estimating biases using als...\n",
      "Computing the msd similarity matrix...\n",
      "Done computing similarity matrix.\n",
      "Estimating biases using als...\n",
      "Computing the msd similarity matrix...\n",
      "Done computing similarity matrix.\n",
      "Evaluating RMSE, MAE of algorithm KNNBaseline on 5 split(s).\n",
      "\n",
      "                  Fold 1  Fold 2  Fold 3  Fold 4  Fold 5  Mean    Std     \n",
      "RMSE (testset)    0.9273  0.9256  0.9283  0.9411  0.9254  0.9296  0.0059  \n",
      "MAE (testset)     0.7270  0.7303  0.7316  0.7414  0.7311  0.7323  0.0048  \n",
      "Fit time          0.88    0.89    0.96    1.05    1.00    0.96    0.07    \n",
      "Test time         9.08    11.45   12.77   12.08   10.85   11.25   1.26    \n",
      "{'test_rmse': array([0.92731189, 0.92562962, 0.92832882, 0.94107909, 0.92542146]), 'test_mae': array([0.72696621, 0.73032155, 0.73164824, 0.74135195, 0.73114069]), 'fit_time': (0.8759841918945312, 0.8880290985107422, 0.9598352909088135, 1.0526537895202637, 1.001417636871338), 'test_time': (9.076283931732178, 11.449006080627441, 12.773337125778198, 12.080925941467285, 10.849441289901733)}\n"
     ]
    }
   ],
   "source": [
    "#使用KNNBsaeline算法\n",
    "from surprise import KNNBaseline\n",
    "algo = KNNBaseline()\n",
    "print(cross_validate(algo, data, measures=['RMSE', 'MAE'], cv=5, verbose=True))\n"
   ]
  }
 ],
 "metadata": {
  "interpreter": {
   "hash": "b3ba2566441a7c06988d0923437866b63cedc61552a5af99d1f4fb67d367b25f"
  },
  "kernelspec": {
   "display_name": "hth37",
   "language": "python",
   "name": "python3"
  },
  "language_info": {
   "codemirror_mode": {
    "name": "ipython",
    "version": 3
   },
   "file_extension": ".py",
   "mimetype": "text/x-python",
   "name": "python",
   "nbconvert_exporter": "python",
   "pygments_lexer": "ipython3",
   "version": "3.8.5"
  },
  "orig_nbformat": 4
 },
 "nbformat": 4,
 "nbformat_minor": 2
}
